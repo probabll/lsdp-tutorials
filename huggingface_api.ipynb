{
 "cells": [
  {
   "cell_type": "markdown",
   "id": "c41bf593",
   "metadata": {},
   "source": [
    "# Hugging-Face Tutorial"
   ]
  },
  {
   "cell_type": "markdown",
   "id": "0f7edfd8",
   "metadata": {},
   "source": [
    "This tutorial will cover some basic operations using the [Transformers](https://huggingface.co/docs/transformers/index) package developed by HuggingFace."
   ]
  },
  {
   "cell_type": "markdown",
   "id": "49d46299",
   "metadata": {},
   "source": [
    "### Transformer Encoder"
   ]
  },
  {
   "cell_type": "markdown",
   "id": "f08bfbf7",
   "metadata": {},
   "source": [
    "We will start by showing how you can load a model and a tokenizer, and get contextual embeddings from a pretrained Transformer model. For that we are going to use a smaller version of the [BERT model](https://arxiv.org/abs/1810.04805), the [DistilBERT model](https://arxiv.org/abs/1910.01108)."
   ]
  },
  {
   "cell_type": "markdown",
   "id": "0cc3f71f",
   "metadata": {},
   "source": [
    "There are more than [100k models available](https://huggingface.co/models) in the Transformers package. They usually have a short \"readme\", with some extra details, called the `Model card`. You can find the model card for the specific model we are going to use [here](https://huggingface.co/distilbert-base-uncased)."
   ]
  },
  {
   "cell_type": "markdown",
   "id": "7e4a38ce",
   "metadata": {},
   "source": [
    "#### Loading a model / tokenizer"
   ]
  },
  {
   "cell_type": "markdown",
   "id": "56fb3137",
   "metadata": {},
   "source": [
    "As you know by now, a model like BERT can be used to obtain contextual embedding representations that are later used to solve a task. Depending on the use case you will need to use different classification layers and strategies to extract/pool the embeddings you need. The Transformers package already includes specific models for those different cases. E.g., the class `AutoModelForTokenClassification` includes a `token classification head`, which corresponds to a linear layer on top of the contextual embeddings.\n",
    "\n",
    "Furthermore, if you are sure about the model architecture you want to use, for example in this case a BERT model, you can use `BertModel`, or even `BertForTokenClassification`, if that's the class of problems you want to solve. However, we are going to start with the most generic possible case, where we use the class `AutoModel` that will instantiate the correct architecture based on the model you choose from the repository of available models."
   ]
  },
  {
   "cell_type": "markdown",
   "id": "4454fcd0",
   "metadata": {},
   "source": [
    "Different model use different [tokenization strategies](https://blog.floydhub.com/tokenization-nlp/). Thus, you also need to download the correct tokenizer for your model. This is as simple as using the model name for the tokenizer class. As with the model, you can use the corresponding class, e.g. `BertTokenizer`, but we are going to use `AutoTokenizer`, which loads the correct tokenizer based on the model name you provide."
   ]
  },
  {
   "cell_type": "code",
   "execution_count": null,
   "id": "d976d9d1",
   "metadata": {},
   "outputs": [],
   "source": [
    "#Uncomment for Colab\n",
    "#!pip install transformers==4.26.*\n",
    "#!pip install datasets==2.10.*"
   ]
  },
  {
   "cell_type": "code",
   "execution_count": null,
   "id": "df18efb1",
   "metadata": {},
   "outputs": [],
   "source": [
    "import torch\n",
    "from transformers import AutoModel\n",
    "from transformers import AutoTokenizer"
   ]
  },
  {
   "cell_type": "code",
   "execution_count": null,
   "id": "1e43c298",
   "metadata": {},
   "outputs": [],
   "source": [
    "tokenizer = AutoTokenizer.from_pretrained(\"distilbert-base-cased\")\n",
    "model = AutoModel.from_pretrained(\"distilbert-base-cased\")"
   ]
  },
  {
   "cell_type": "markdown",
   "id": "83683287",
   "metadata": {},
   "source": [
    "We can confirm which class the model used for both the tokenizer and the model."
   ]
  },
  {
   "cell_type": "code",
   "execution_count": null,
   "id": "b791d6f6",
   "metadata": {},
   "outputs": [],
   "source": [
    "print(\"Model    : \", type(model))\n",
    "print(\"Tokenizer: \", type(tokenizer))"
   ]
  },
  {
   "cell_type": "markdown",
   "id": "87a83cf3",
   "metadata": {},
   "source": [
    "We will now define two simple input sentences, and call the tokenizer and the model."
   ]
  },
  {
   "cell_type": "code",
   "execution_count": null,
   "id": "83ad212b",
   "metadata": {},
   "outputs": [],
   "source": [
    "x = [\"Today is Tuesday.\", \"A cold morning in Science Park.\"]"
   ]
  },
  {
   "cell_type": "code",
   "execution_count": null,
   "id": "d6f65c51",
   "metadata": {},
   "outputs": [],
   "source": [
    "batch = tokenizer(x, padding=True, return_tensors=\"pt\")\n",
    "batch"
   ]
  },
  {
   "cell_type": "markdown",
   "id": "85840a87",
   "metadata": {},
   "source": [
    "After tokenizing we have the [`input_ids`](https://huggingface.co/docs/transformers/v4.26.1/en/glossary#input-ids) and the [`attention_mask`](https://huggingface.co/docs/transformers/v4.26.1/en/glossary#attention-mask), which are the inputs to the model."
   ]
  },
  {
   "cell_type": "markdown",
   "id": "a09197a2",
   "metadata": {},
   "source": [
    "Before we call the model, let's confirm that the model already includes the necessary special tokens by calling the method `convert_ids_to_tokens` of the tokenizer."
   ]
  },
  {
   "cell_type": "code",
   "execution_count": null,
   "id": "829acb95",
   "metadata": {},
   "outputs": [],
   "source": [
    "tokenizer.convert_ids_to_tokens(batch[\"input_ids\"][1])"
   ]
  },
  {
   "cell_type": "markdown",
   "id": "c4fc8cb5",
   "metadata": {},
   "source": [
    "And now we can call the contextual embedding model."
   ]
  },
  {
   "cell_type": "code",
   "execution_count": null,
   "id": "71f275de",
   "metadata": {
    "scrolled": false
   },
   "outputs": [],
   "source": [
    "output = model(**batch)\n",
    "print(\"Output keys: \", output.keys())\n",
    "print(\"\\nOutput shape: \", output[\"last_hidden_state\"].shape)\n",
    "print(\"\\nOutput: \", output[\"last_hidden_state\"])"
   ]
  },
  {
   "cell_type": "markdown",
   "id": "2e7b16a3",
   "metadata": {},
   "source": [
    "We can see that the model only returns what is called the `last_hidden_state`, which corresponds to the hidden states of the top layer, with dimensions `[batch_size, sequence_length, hidden_size]`."
   ]
  },
  {
   "cell_type": "markdown",
   "id": "efed6b61",
   "metadata": {},
   "source": [
    "We can also choose to output the hidden states for all layers and the attention weights of the self-attention mechanism, as described in the [docs](https://huggingface.co/docs/transformers/v4.26.1/en/model_doc/distilbert#transformers.DistilBertModel.forward) for the model we are using."
   ]
  },
  {
   "cell_type": "code",
   "execution_count": null,
   "id": "024622db",
   "metadata": {},
   "outputs": [],
   "source": [
    "output = model(**batch, output_attentions=True, output_hidden_states=True)\n",
    "print(\"Output keys: \", output.keys())"
   ]
  },
  {
   "cell_type": "markdown",
   "id": "9679b18a",
   "metadata": {},
   "source": [
    "Hidden states is a tuple with `num_layers + 1` tensors, one for each layer plus the embedding layer, each with shape `[batch_size, sequence_length, hidden_size`]."
   ]
  },
  {
   "cell_type": "code",
   "execution_count": null,
   "id": "2b795f05",
   "metadata": {},
   "outputs": [],
   "source": [
    "print(\"Number items in 'hidden_states': \", len(output['hidden_states']))\n",
    "print(\"'hidden_states' shape: \", output[\"hidden_states\"][0].shape)"
   ]
  },
  {
   "cell_type": "markdown",
   "id": "badefc45",
   "metadata": {},
   "source": [
    "We can confirm that the `last_hidden_state` indeed corresponds to the top layer of the model."
   ]
  },
  {
   "cell_type": "code",
   "execution_count": null,
   "id": "a6250a5b",
   "metadata": {},
   "outputs": [],
   "source": [
    "assert torch.all(output[\"last_hidden_state\"] == output[\"hidden_states\"][-1])"
   ]
  },
  {
   "cell_type": "markdown",
   "id": "0135e52f",
   "metadata": {},
   "source": [
    "For the attentions we get a tuple with `num_layers` tensors, one for each layer, each with shape `[batch_size, num_heads, sequence_length, sequence_length]`. These values can be visualized similarly to what we did in previous tutorials."
   ]
  },
  {
   "cell_type": "code",
   "execution_count": null,
   "id": "7ebb6bd7",
   "metadata": {},
   "outputs": [],
   "source": [
    "print(\"Number items in 'attentions': \", len(output['attentions']))\n",
    "print(\"'attentions' shape: \", output[\"attentions\"][0].shape)"
   ]
  },
  {
   "cell_type": "markdown",
   "id": "0ff342e6",
   "metadata": {},
   "source": [
    "---"
   ]
  },
  {
   "cell_type": "markdown",
   "id": "3bba3961",
   "metadata": {},
   "source": [
    "#### Models finetuned for specific tasks"
   ]
  },
  {
   "attachments": {
    "image.png": {
     "image/png": "[encoded data removed]"
    }
   },
   "cell_type": "markdown",
   "id": "d443082e",
   "metadata": {},
   "source": [
    "As mentioned before we need to train a classification layer to use the embeddings extracted from our Transformer model in case we want to solve a downstream task. This depends on the task. For instance for a token-level classification task we could apply a linear classifier on top of every embedding, whereas for a sentence-level classification task we could apply a linear classifier on top of the representation of the `CLS` token.\n",
    "\n",
    "A brief overview of the different strategies can be seen in the following figure from the [original BERT paper](https://arxiv.org/abs/1810.04805):\n",
    "\n",
    "![image.png](attachment:image.png)"
   ]
  },
  {
   "cell_type": "markdown",
   "id": "5a40fc59",
   "metadata": {},
   "source": [
    "For now we are going to skip how you can actually finetune an existing model. However, we are going to go through two different ways of using an already trained model. For common datasets/models it is common to find already finetuned instances in the HuggingFace model repository. Let's explore [one such model](https://huggingface.co/distilbert-base-cased-distilled-squad), previously finetuned on a dataset specific to the Question-Answering task."
   ]
  },
  {
   "cell_type": "code",
   "execution_count": null,
   "id": "fb83d6c3",
   "metadata": {},
   "outputs": [],
   "source": [
    "from transformers import DistilBertForQuestionAnswering"
   ]
  },
  {
   "cell_type": "code",
   "execution_count": null,
   "id": "1ddcbeae",
   "metadata": {},
   "outputs": [],
   "source": [
    "tokenizer = AutoTokenizer.from_pretrained(\"distilbert-base-cased-distilled-squad\")\n",
    "model = DistilBertForQuestionAnswering.from_pretrained('distilbert-base-cased-distilled-squad')"
   ]
  },
  {
   "cell_type": "code",
   "execution_count": null,
   "id": "9c5c4a6e",
   "metadata": {},
   "outputs": [],
   "source": [
    "context = \"Paris is the capital of France. Madrid is the capital of Spain. Barcelona is a city in Spain.\"\n",
    "question = \"What is the capital of Spain?\"\n",
    "\n",
    "batch = tokenizer(question, context, return_tensors=\"pt\")\n",
    "output = model(**batch)\n",
    "\n",
    "output.keys()"
   ]
  },
  {
   "cell_type": "markdown",
   "id": "ae6b5676",
   "metadata": {},
   "source": [
    "Notice how this model now returns an output specific to the task we want to solve."
   ]
  },
  {
   "cell_type": "code",
   "execution_count": null,
   "id": "c69431ce",
   "metadata": {},
   "outputs": [],
   "source": [
    "answer_start_index = torch.argmax(output[\"start_logits\"])\n",
    "answer_end_index = torch.argmax(output[\"end_logits\"])\n",
    "print(\"Answer start index: \", answer_start_index)\n",
    "print(\"Answer end index: \", answer_end_index)"
   ]
  },
  {
   "cell_type": "code",
   "execution_count": null,
   "id": "dc0bb4d3",
   "metadata": {},
   "outputs": [],
   "source": [
    "tokenizer.decode(batch[\"input_ids\"][0][answer_start_index:answer_end_index+1])"
   ]
  },
  {
   "cell_type": "markdown",
   "id": "7a5a773a",
   "metadata": {},
   "source": [
    "---"
   ]
  },
  {
   "cell_type": "markdown",
   "id": "b0df5477",
   "metadata": {},
   "source": [
    "#### Pipelines"
   ]
  },
  {
   "cell_type": "markdown",
   "id": "aeb1dae2",
   "metadata": {},
   "source": [
    "Another way of making using of already trained models is via what HuggingFace calls [\"pipelines\"](https://huggingface.co/docs/transformers/v4.26.1/en/main_classes/pipelines#transformers.pipeline). There are several pipelines implemented for different tasks (e.g. Translation, Text Generation, QA, etc.) and they simplify even further how you can interact with an already existing model.\n",
    "\n",
    "Here we are going to use a pipeline for QA, with exactly the same model we have been using so far."
   ]
  },
  {
   "cell_type": "code",
   "execution_count": null,
   "id": "5a3818bb",
   "metadata": {},
   "outputs": [],
   "source": [
    "from transformers import pipeline"
   ]
  },
  {
   "cell_type": "code",
   "execution_count": null,
   "id": "2bbfeb86",
   "metadata": {},
   "outputs": [],
   "source": [
    "qa_pipeline = pipeline(\"question-answering\", model='distilbert-base-cased-distilled-squad')"
   ]
  },
  {
   "cell_type": "code",
   "execution_count": null,
   "id": "3bbf00ee",
   "metadata": {},
   "outputs": [],
   "source": [
    "context = \"Paris is the capital of France. Madrid is the capital of Spain. Barcelona is a city in Spain.\""
   ]
  },
  {
   "cell_type": "code",
   "execution_count": null,
   "id": "8ffa1fbe",
   "metadata": {},
   "outputs": [],
   "source": [
    "for question in [\"What is the capital of Spain?\", \"What is the capital of France?\", \"Where is Barcelona?\"]:\n",
    "    print(f\"Question: {question} - {qa_pipeline(question=question, context=context)}\")"
   ]
  },
  {
   "cell_type": "markdown",
   "id": "77958e74",
   "metadata": {},
   "source": [
    "Let's use a longer context and test the pipeline model once again."
   ]
  },
  {
   "cell_type": "code",
   "execution_count": null,
   "id": "5d964466",
   "metadata": {},
   "outputs": [],
   "source": [
    "context = \"The University of Amsterdam (abbreviated as UvA, Dutch: Universiteit van Amsterdam) \"\\\n",
    "          + \"is a public research university located in Amsterdam, Netherlands. Established in 1632 \" \\\n",
    "          + \"by municipal authorities and later renamed for the city of Amsterdam, the University of \" \\\n",
    "          + \"Amsterdam is the third-oldest university in the Netherlands, and one of the most \" \\\n",
    "          + \"prestigious academic institutions of the country, and in the world.\""
   ]
  },
  {
   "cell_type": "code",
   "execution_count": null,
   "id": "d105d2bd",
   "metadata": {},
   "outputs": [],
   "source": [
    "qa_pipeline(question=\"When was UvA founded?\", context=context)"
   ]
  },
  {
   "cell_type": "code",
   "execution_count": null,
   "id": "fe2501a2",
   "metadata": {},
   "outputs": [],
   "source": [
    "qa_pipeline(question=\"Who established UvA?\", context=context)"
   ]
  },
  {
   "cell_type": "code",
   "execution_count": null,
   "id": "d2c630d0",
   "metadata": {},
   "outputs": [],
   "source": [
    "qa_pipeline(question=\"How recognized is UvA?\", context=context)"
   ]
  },
  {
   "cell_type": "markdown",
   "id": "064e97aa",
   "metadata": {},
   "source": [
    "---\n",
    "---\n",
    "---"
   ]
  },
  {
   "cell_type": "markdown",
   "id": "d6c18a53",
   "metadata": {},
   "source": [
    "### Transformer Decoder"
   ]
  },
  {
   "cell_type": "markdown",
   "id": "45b59503",
   "metadata": {},
   "source": [
    "Let's now focus on a Transformer decoder model. In this case we are going to use the [`distilgpt2`](https://huggingface.co/distilgpt2) model, a smaller version of GPT-2."
   ]
  },
  {
   "cell_type": "code",
   "execution_count": null,
   "id": "eaf994cf",
   "metadata": {},
   "outputs": [],
   "source": [
    "from transformers import GPT2LMHeadModel"
   ]
  },
  {
   "cell_type": "code",
   "execution_count": null,
   "id": "75d1f464",
   "metadata": {},
   "outputs": [],
   "source": [
    "tokenizer = AutoTokenizer.from_pretrained(\"distilgpt2\")\n",
    "tokenizer.pad_token = tokenizer.eos_token\n",
    "model = GPT2LMHeadModel.from_pretrained(\"distilgpt2\")"
   ]
  },
  {
   "cell_type": "code",
   "execution_count": null,
   "id": "f5a51bfc",
   "metadata": {},
   "outputs": [],
   "source": [
    "x = \"A cold morning in Science Park, where we are learning about\""
   ]
  },
  {
   "cell_type": "code",
   "execution_count": null,
   "id": "2d6e5dea",
   "metadata": {},
   "outputs": [],
   "source": [
    "batch = tokenizer(x, return_tensors=\"pt\")\n",
    "batch"
   ]
  },
  {
   "cell_type": "markdown",
   "id": "3695bd11",
   "metadata": {},
   "source": [
    "We can start by generating some text based on the original model. There are many [options](https://huggingface.co/blog/how-to-generate) to do so, we will just use beam search."
   ]
  },
  {
   "cell_type": "code",
   "execution_count": null,
   "id": "aafad194",
   "metadata": {},
   "outputs": [],
   "source": [
    "output = model.generate(**batch, num_beams=5, max_length=30)\n",
    "output.shape"
   ]
  },
  {
   "cell_type": "code",
   "execution_count": null,
   "id": "0a23d627",
   "metadata": {},
   "outputs": [],
   "source": [
    "tokenizer.decode(output[0], skip_special_tokens=True)"
   ]
  },
  {
   "cell_type": "markdown",
   "id": "c9d88d91",
   "metadata": {},
   "source": [
    "Since we loaded the `LMHeadModel`, calling it returns a set of logit values, with dimension `[batch_size, sequence_length, vocab_dim]`."
   ]
  },
  {
   "cell_type": "code",
   "execution_count": null,
   "id": "170d4b4a",
   "metadata": {
    "scrolled": false
   },
   "outputs": [],
   "source": [
    "logits = model(**batch, use_cache=False)[\"logits\"]\n",
    "logits.shape"
   ]
  },
  {
   "cell_type": "markdown",
   "id": "7276cf4a",
   "metadata": {},
   "source": [
    "We can then calculate the loss manually: first we apply log-softmax to the logits output by the model; then, we select the values for the correct position (offset by one, meaning that you select the value corresponding to the next token for a given position); and then average the results."
   ]
  },
  {
   "cell_type": "code",
   "execution_count": null,
   "id": "cfc60591",
   "metadata": {},
   "outputs": [],
   "source": [
    "logits = torch.nn.functional.log_softmax(logits, dim=-1)\n",
    "logits = logits[:, :-1]\n",
    "batch_size, sequence_length, vocab_dim = logits.shape\n",
    "loss = torch.mean(\n",
    "    logits.reshape(-1, vocab_dim)[torch.arange(batch_size*sequence_length), batch[\"input_ids\"][:, 1:].reshape(-1)]\n",
    ")\n",
    "print(-1*loss)"
   ]
  },
  {
   "cell_type": "markdown",
   "id": "0beacce2",
   "metadata": {},
   "source": [
    "In practice we don't need to do it manually, as the Transformers package does the same if we provide the labels to the model, i.e., the original `input_ids`."
   ]
  },
  {
   "cell_type": "code",
   "execution_count": null,
   "id": "8c32077f",
   "metadata": {},
   "outputs": [],
   "source": [
    "model(**batch, labels=batch[\"input_ids\"])[\"loss\"]"
   ]
  },
  {
   "cell_type": "markdown",
   "id": "2f23c7f3",
   "metadata": {},
   "source": [
    "---"
   ]
  },
  {
   "cell_type": "markdown",
   "id": "d6c41483",
   "metadata": {},
   "source": [
    "#### Datasets"
   ]
  },
  {
   "cell_type": "markdown",
   "id": "3c1fdb75",
   "metadata": {},
   "source": [
    "Now that we are going to finetune a model, it's a good a time to introduce a very useful package, also developed by HuggingFace. The [datasets](https://huggingface.co/datasets) package contains several different datasets, for different tasks and even types of data."
   ]
  },
  {
   "cell_type": "code",
   "execution_count": null,
   "id": "34c39207",
   "metadata": {},
   "outputs": [],
   "source": [
    "import datasets\n",
    "datasets.disable_progress_bar()"
   ]
  },
  {
   "cell_type": "markdown",
   "id": "3ed0a8e8",
   "metadata": {},
   "source": [
    "For this section we are going to use the English split of the [\\\"Amazon Reviews Corpus\\\"](https://huggingface.co/datasets/amazon_reviews_multi)."
   ]
  },
  {
   "cell_type": "code",
   "execution_count": null,
   "id": "c8298618",
   "metadata": {},
   "outputs": [],
   "source": [
    "data = datasets.load_dataset(\"amazon_reviews_multi\", \"en\")"
   ]
  },
  {
   "cell_type": "code",
   "execution_count": null,
   "id": "a437e07f",
   "metadata": {},
   "outputs": [],
   "source": [
    "data"
   ]
  },
  {
   "cell_type": "code",
   "execution_count": null,
   "id": "94aa1bb9",
   "metadata": {},
   "outputs": [],
   "source": [
    "set(data[\"train\"][\"product_category\"])"
   ]
  },
  {
   "cell_type": "markdown",
   "id": "7042499a",
   "metadata": {},
   "source": [
    "As we can see there are many different categories in this dataset. In order to keep things simpler we are going to use only the reviews for the \"sports\" product category. Plus, we are going to filter out the longer example, to speed up training."
   ]
  },
  {
   "cell_type": "code",
   "execution_count": null,
   "id": "c60cb328",
   "metadata": {},
   "outputs": [],
   "source": [
    "def preprocess_data(data):\n",
    "    data = data.remove_columns([\"review_id\", \"product_id\", \"reviewer_id\", \"stars\", \"language\"])\n",
    "    data = data.filter(lambda x: x[\"product_category\"] == \"sports\")\n",
    "    data = data.filter(lambda x: len(x[\"review_body\"].split()) < 30)\n",
    "    return data"
   ]
  },
  {
   "cell_type": "code",
   "execution_count": null,
   "id": "1cb6b1e1",
   "metadata": {},
   "outputs": [],
   "source": [
    "train_data_preprocessed = preprocess_data(data[\"train\"])\n",
    "valid_data_preprocessed = preprocess_data(data[\"validation\"])\n",
    "test_data_preprocessed = preprocess_data(data[\"test\"])"
   ]
  },
  {
   "cell_type": "markdown",
   "id": "a7af2ffa",
   "metadata": {},
   "source": [
    "The goal of our model will be to predict the title of the review. Our input will be the review of the product, followed by `TITLE: `, the actual title, and the end of sentence token."
   ]
  },
  {
   "cell_type": "code",
   "execution_count": null,
   "id": "192ded70",
   "metadata": {},
   "outputs": [],
   "source": [
    "def prepare_dataset(data, tokenizer):\n",
    "    return [f\"{x['review_body']} TITLE: {x['review_title']}{tokenizer.eos_token}\" for x in data]"
   ]
  },
  {
   "cell_type": "code",
   "execution_count": null,
   "id": "200b3e79",
   "metadata": {},
   "outputs": [],
   "source": [
    "train_data = prepare_dataset(train_data_preprocessed, tokenizer)\n",
    "valid_data = prepare_dataset(valid_data_preprocessed, tokenizer)\n",
    "test_data = prepare_dataset(test_data_preprocessed, tokenizer)\n",
    "print(f\"Train: {len(train_data)} examples\")\n",
    "print(f\"Valid: {len(valid_data)} examples\")\n",
    "print(f\"Test: {len(test_data)} examples\")"
   ]
  },
  {
   "cell_type": "code",
   "execution_count": null,
   "id": "6736acf7",
   "metadata": {},
   "outputs": [],
   "source": [
    "train_data[0]"
   ]
  },
  {
   "cell_type": "markdown",
   "id": "ffc7a379",
   "metadata": {},
   "source": [
    "---"
   ]
  },
  {
   "cell_type": "markdown",
   "id": "a7424c19",
   "metadata": {},
   "source": [
    "#### Training Model"
   ]
  },
  {
   "cell_type": "markdown",
   "id": "69ff9d32",
   "metadata": {},
   "source": [
    "Now that we have prepared our dataset, we are going to implement everything we need to actually train the model."
   ]
  },
  {
   "cell_type": "code",
   "execution_count": null,
   "id": "06767f6f",
   "metadata": {},
   "outputs": [],
   "source": [
    "import random\n",
    "import numpy as np\n",
    "\n",
    "from torch.utils.data import DataLoader\n",
    "from torch.utils.data import Dataset\n",
    "from torch.optim import AdamW\n",
    "from transformers import get_linear_schedule_with_warmup"
   ]
  },
  {
   "cell_type": "code",
   "execution_count": null,
   "id": "4ab179fe",
   "metadata": {},
   "outputs": [],
   "source": [
    "def set_random_seed(random_seed):\n",
    "    random.seed(random_seed)\n",
    "    np.random.seed(random_seed)\n",
    "    torch.manual_seed(random_seed)\n",
    "    torch.cuda.manual_seed_all(random_seed)\n",
    "    \n",
    "set_random_seed(0)"
   ]
  },
  {
   "cell_type": "code",
   "execution_count": null,
   "id": "08d6d4f2",
   "metadata": {},
   "outputs": [],
   "source": [
    "config = {\n",
    "    \"num_epochs\": 10,\n",
    "    \"learning_rate\": 3e-5,\n",
    "    \"warmup_ratio\": 0.1,\n",
    "    \"batch_size\": 8,\n",
    "}"
   ]
  },
  {
   "cell_type": "markdown",
   "id": "1c0a8d6d",
   "metadata": {},
   "source": [
    "#### Define dataset and dataloaders"
   ]
  },
  {
   "cell_type": "code",
   "execution_count": null,
   "id": "6b993fba",
   "metadata": {},
   "outputs": [],
   "source": [
    "class GPTDataset(Dataset):\n",
    "    \n",
    "    def __init__(self, tokenizer, data):\n",
    "        \n",
    "        self.tokenizer = tokenizer\n",
    "        self.data = data\n",
    "        self.num_examples = len(data)\n",
    "\n",
    "    def __len__(self):\n",
    "        return self.num_examples\n",
    "\n",
    "    def __getitem__(self, idx):\n",
    "        return self.data[idx]\n",
    "    \n",
    "    def collate_fn(self, batch):\n",
    "        \n",
    "        batch_tensor = self.tokenizer(\n",
    "            batch,\n",
    "            padding=\"longest\",\n",
    "            return_tensors=\"pt\",\n",
    "        )\n",
    "        \n",
    "        # A bit hacky, but we prepare \"labels\" to obtain the loss, as explained in:\n",
    "        # https://huggingface.co/docs/transformers/v4.26.1/en/model_doc/gpt2#transformers.GPT2LMHeadModel.forward.labels\n",
    "        labels = torch.ones_like(batch_tensor[\"input_ids\"]) * -100\n",
    "        for example_idx, example in enumerate(batch_tensor[\"input_ids\"]):\n",
    "            \n",
    "            # Find the position of \"TITLE:\"\n",
    "            # We need to do this, as different words might be mapped to multiple subwords\n",
    "            example_tokens = self.tokenizer.convert_ids_to_tokens(example, skip_special_tokens=True)\n",
    "            labels_start_idx = example_tokens.index(\"ĠTIT\")\n",
    "            assert example_tokens[labels_start_idx + 1] == \"LE\"\n",
    "        \n",
    "            # Replace labels by original ids, only for the title, and keep the eos token\n",
    "            # The EOS token is the same as the PAD token, but since we do this based on the length\n",
    "            # of the example tokens, everything works as intended\n",
    "            labels[example_idx][labels_start_idx : len(example_tokens) + 1] = \\\n",
    "                batch_tensor[\"input_ids\"][example_idx][labels_start_idx : len(example_tokens) + 1]\n",
    "            \n",
    "        batch_tensor[\"labels\"] = labels\n",
    "\n",
    "        return batch_tensor"
   ]
  },
  {
   "cell_type": "code",
   "execution_count": null,
   "id": "71543812",
   "metadata": {},
   "outputs": [],
   "source": [
    "train_dataset = GPTDataset(tokenizer, train_data)\n",
    "valid_dataset = GPTDataset(tokenizer, valid_data)"
   ]
  },
  {
   "cell_type": "code",
   "execution_count": null,
   "id": "e2514a89",
   "metadata": {},
   "outputs": [],
   "source": [
    "train_dataloader = DataLoader(\n",
    "    train_dataset, shuffle=True, batch_size=config[\"batch_size\"], collate_fn=train_dataset.collate_fn\n",
    ")\n",
    "valid_dataloader = DataLoader(\n",
    "    valid_dataset, shuffle=False, batch_size=config[\"batch_size\"], collate_fn=valid_dataset.collate_fn\n",
    ")"
   ]
  },
  {
   "cell_type": "markdown",
   "id": "af3a0b8f",
   "metadata": {},
   "source": [
    "#### Define optimizer and scheduler"
   ]
  },
  {
   "cell_type": "code",
   "execution_count": null,
   "id": "f9d03d3c",
   "metadata": {},
   "outputs": [],
   "source": [
    "def prepare_optimizer(model, lr):\n",
    "    return AdamW(model.parameters(), lr=lr, eps=1e-8)"
   ]
  },
  {
   "cell_type": "code",
   "execution_count": null,
   "id": "18d2c24f",
   "metadata": {},
   "outputs": [],
   "source": [
    "optimizer = prepare_optimizer(\n",
    "    model=model,\n",
    "    lr=config[\"learning_rate\"],\n",
    ")"
   ]
  },
  {
   "cell_type": "markdown",
   "id": "d956809f",
   "metadata": {},
   "source": [
    "In order to use a linear scheduler (that we discussed in a previous tutorial) we need to calculate the number of training steps."
   ]
  },
  {
   "cell_type": "code",
   "execution_count": null,
   "id": "19987c98",
   "metadata": {},
   "outputs": [],
   "source": [
    "def prepare_scheduler(optimizer, train_dataloader, config):\n",
    "    total_steps = len(train_dataloader) * config[\"num_epochs\"]\n",
    "\n",
    "    scheduler = get_linear_schedule_with_warmup(\n",
    "        optimizer,\n",
    "        num_warmup_steps=int(config[\"warmup_ratio\"] * total_steps),\n",
    "        num_training_steps=total_steps,\n",
    "    )\n",
    "    \n",
    "    return scheduler"
   ]
  },
  {
   "cell_type": "code",
   "execution_count": null,
   "id": "f6e2d907",
   "metadata": {},
   "outputs": [],
   "source": [
    "scheduler = prepare_scheduler(\n",
    "    optimizer=optimizer,\n",
    "    train_dataloader=train_dataloader,\n",
    "    config=config,\n",
    ")"
   ]
  },
  {
   "cell_type": "markdown",
   "id": "b4e8491a",
   "metadata": {},
   "source": [
    "#### Define trainable layers"
   ]
  },
  {
   "cell_type": "markdown",
   "id": "e1964357",
   "metadata": {},
   "source": [
    "Since we are working with a small dataset, letting the model be fully trained might be too much. So we \"freeze\" most of the layers of the model, except for the top layer and the linear function that maps the hidden states to the vocab dimension."
   ]
  },
  {
   "cell_type": "code",
   "execution_count": null,
   "id": "e4c7307f",
   "metadata": {},
   "outputs": [],
   "source": [
    "num_layers = model.config.n_layer"
   ]
  },
  {
   "cell_type": "code",
   "execution_count": null,
   "id": "9d8ec103",
   "metadata": {},
   "outputs": [],
   "source": [
    "num_trainable_layers = 1\n",
    "trainable_layers = [str(i) for i in range(num_layers - num_trainable_layers, num_layers)]\n",
    "\n",
    "# Unfreeze layer as desired\n",
    "for param_name, param in model.named_parameters():\n",
    "    if not param_name.split(\".\")[1] == \"ln_f\" and not param_name.split(\".\")[2] in trainable_layers:\n",
    "        param.requires_grad = False\n",
    "    else:\n",
    "        param.requires_grad = True\n",
    "\n",
    "# Print layers that are going the be trained\n",
    "print(\"Layers being trained:\\n\")\n",
    "for param_name, param in model.named_parameters():\n",
    "    if param.requires_grad == True:\n",
    "        print(param_name)"
   ]
  },
  {
   "cell_type": "markdown",
   "id": "2e555e0c",
   "metadata": {},
   "source": [
    "#### Get device"
   ]
  },
  {
   "cell_type": "code",
   "execution_count": null,
   "id": "d574b1ea",
   "metadata": {},
   "outputs": [],
   "source": [
    "device = \"cuda\" if torch.cuda.is_available() else \"cpu\"\n",
    "print(\"Device: \", device)\n",
    "model = model.to(device)"
   ]
  },
  {
   "cell_type": "markdown",
   "id": "5d8be901",
   "metadata": {},
   "source": [
    "#### Train model / Generate examples"
   ]
  },
  {
   "cell_type": "markdown",
   "id": "9082f0d8",
   "metadata": {},
   "source": [
    "Let's start by generating some samples before training the model. We can see that the model generates titles that are clearly not relevant."
   ]
  },
  {
   "cell_type": "code",
   "execution_count": null,
   "id": "d86e5d54",
   "metadata": {},
   "outputs": [],
   "source": [
    "def generate_with_model(text, tokenizer, model, device):\n",
    "    tokenized_text = tokenizer(text, return_tensors=\"pt\").to(device)\n",
    "    generated_text_ids = model.generate(\n",
    "        **tokenized_text,\n",
    "        max_length=70,\n",
    "        pad_token_id=tokenizer.eos_token_id,\n",
    "        num_beams=5,\n",
    "    )[0]\n",
    "    generated_text = tokenizer.decode(generated_text_ids, skip_special_tokens=True)\n",
    "    return generated_text"
   ]
  },
  {
   "cell_type": "code",
   "execution_count": null,
   "id": "ae2fba4f",
   "metadata": {},
   "outputs": [],
   "source": [
    "def pretty_print_example(context, original, generated):\n",
    "    print(f\"Context:\\n{context}\\n\")\n",
    "    original_title = original.split(\"TITLE: \")[1]\n",
    "    print(f\"Original:\\n{original_title[:-len(tokenizer.eos_token)]}\\n\")\n",
    "    generated_title = generated.split(\"TITLE: \")[1]\n",
    "    print(f\"Generated:\\n{generated_title.strip()}\\n\")\n",
    "\n",
    "    print(\"-----\")"
   ]
  },
  {
   "cell_type": "code",
   "execution_count": null,
   "id": "49abae31",
   "metadata": {
    "scrolled": false
   },
   "outputs": [],
   "source": [
    "for i in range(5):\n",
    "    example = valid_data[i][:valid_data[i].index(\"TITLE:\") + len(\"TITLE:\")]\n",
    "    generated_example = generate_with_model(example, tokenizer, model, device)\n",
    "    pretty_print_example(context=example, original=valid_data[i], generated=generated_example)"
   ]
  },
  {
   "cell_type": "markdown",
   "id": "9c469d3f",
   "metadata": {},
   "source": [
    "We can finally train our model."
   ]
  },
  {
   "cell_type": "code",
   "execution_count": null,
   "id": "35a42224",
   "metadata": {},
   "outputs": [],
   "source": [
    "batch_loss = -100\n",
    "\n",
    "for epoch in range(config[\"num_epochs\"]):\n",
    "\n",
    "    total_train_loss = 0\n",
    "    \n",
    "    model.train()\n",
    "\n",
    "    for step_idx, batch in enumerate(train_dataloader):\n",
    "\n",
    "        #print(f\"STEP: {step_idx} / {len(train_dataloader)} - LOSS: {batch_loss:.4f}\", end=\"\\r\")\n",
    "        # Use this one for Colab instead:\n",
    "        print(f\"\\rSTEP: {step_idx} / {len(train_dataloader)} - LOSS: {batch_loss:.4f}\", end=\"\")\n",
    "\n",
    "        model.zero_grad()\n",
    "\n",
    "        batch = {k:v.to(device) for k,v in batch.items()}\n",
    "        output = model(**batch)\n",
    "\n",
    "        batch_loss = output[\"loss\"]\n",
    "        total_train_loss += batch_loss.item()\n",
    "\n",
    "        batch_loss.backward()\n",
    "        optimizer.step()\n",
    "        scheduler.step()\n",
    "\n",
    "    print(f\"\\nEpoch: {epoch} - Average Train Loss: {total_train_loss / len(train_dataloader):.2f}\")\n",
    "\n",
    "    # Validation\n",
    "    model.eval()\n",
    "\n",
    "    total_valid_loss = 0\n",
    "\n",
    "    for batch in valid_dataloader:\n",
    "        \n",
    "        batch = {k:v.to(device) for k,v in batch.items()}\n",
    "        \n",
    "        with torch.no_grad():\n",
    "            output = model(**batch)\n",
    "    \n",
    "        batch_loss = output[\"loss\"].item()\n",
    "        total_valid_loss += batch_loss\n",
    "        \n",
    "    print(f\"Epoch: {epoch} - Average Valid Loss: {total_valid_loss / len(valid_dataloader):.2f}\")"
   ]
  },
  {
   "cell_type": "code",
   "execution_count": null,
   "id": "76496eca",
   "metadata": {},
   "outputs": [],
   "source": [
    "for i in range(5):\n",
    "    example = valid_data[i][:valid_data[i].index(\"TITLE:\") + len(\"TITLE:\")]\n",
    "    generated_example = generate_with_model(example, tokenizer, model, device)\n",
    "    pretty_print_example(context=example, original=valid_data[i], generated=generated_example)"
   ]
  },
  {
   "cell_type": "markdown",
   "id": "37a6a0c3",
   "metadata": {},
   "source": [
    "The model is now able to generate titles that are a bit closer to the expected."
   ]
  },
  {
   "cell_type": "markdown",
   "id": "32c88d26",
   "metadata": {},
   "source": [
    "---\n",
    "---\n",
    "---"
   ]
  },
  {
   "cell_type": "markdown",
   "id": "3d135271",
   "metadata": {},
   "source": [
    "### Transformer Encoder-Decoder"
   ]
  },
  {
   "cell_type": "markdown",
   "id": "326064e4",
   "metadata": {},
   "source": [
    "After working both with Encoder and Decoder only transformers, it's now time to explore a Transformer Encoder-Decoder model. Similarly to what we did so far, we are going to use a an already existing model, in this case the [small version of T5](https://huggingface.co/t5-small). You can read more about this model in the [corresponding paper](https://jmlr.org/papers/volume21/20-074/20-074.pdf)."
   ]
  },
  {
   "cell_type": "code",
   "execution_count": null,
   "id": "58fa2a39",
   "metadata": {},
   "outputs": [],
   "source": [
    "from transformers import T5ForConditionalGeneration"
   ]
  },
  {
   "cell_type": "code",
   "execution_count": null,
   "id": "9a3e9ba7",
   "metadata": {},
   "outputs": [],
   "source": [
    "set_random_seed(0)"
   ]
  },
  {
   "cell_type": "code",
   "execution_count": null,
   "id": "325448ff",
   "metadata": {},
   "outputs": [],
   "source": [
    "t5_config = {\n",
    "    \"num_epochs\": 10,\n",
    "    \"learning_rate\": 3e-5,\n",
    "    \"warmup_ratio\": 0.1,\n",
    "    \"batch_size\": 8,\n",
    "}"
   ]
  },
  {
   "cell_type": "markdown",
   "id": "efe56d34",
   "metadata": {},
   "source": [
    "#### Load model and tokenizer"
   ]
  },
  {
   "cell_type": "code",
   "execution_count": null,
   "id": "28b7bf2c",
   "metadata": {},
   "outputs": [],
   "source": [
    "tokenizer = AutoTokenizer.from_pretrained(\"t5-small\")\n",
    "model = T5ForConditionalGeneration.from_pretrained(\"t5-small\")"
   ]
  },
  {
   "cell_type": "markdown",
   "id": "a3987702",
   "metadata": {},
   "source": [
    "#### Prepare data"
   ]
  },
  {
   "cell_type": "markdown",
   "id": "7a090c03",
   "metadata": {},
   "source": [
    "In this case we are going to give the content of the review to the encoder, and let the decoder generate the title."
   ]
  },
  {
   "cell_type": "code",
   "execution_count": null,
   "id": "2ffea25b",
   "metadata": {},
   "outputs": [],
   "source": [
    "def prepare_dataset(data, tokenizer):\n",
    "    return [(f\"{x['review_body']}\", f\"{x['review_title']}{tokenizer.eos_token}\") for x in data]"
   ]
  },
  {
   "cell_type": "code",
   "execution_count": null,
   "id": "6f5cc2d7",
   "metadata": {},
   "outputs": [],
   "source": [
    "train_data = prepare_dataset(train_data_preprocessed, tokenizer)\n",
    "valid_data = prepare_dataset(valid_data_preprocessed, tokenizer)\n",
    "test_data = prepare_dataset(test_data_preprocessed, tokenizer)\n",
    "print(f\"Train: {len(train_data)} example\")\n",
    "print(f\"Valid: {len(valid_data)} example\")\n",
    "print(f\"Test: {len(test_data)} example\")"
   ]
  },
  {
   "cell_type": "code",
   "execution_count": null,
   "id": "038f2cc6",
   "metadata": {},
   "outputs": [],
   "source": [
    "train_data[0]"
   ]
  },
  {
   "cell_type": "markdown",
   "id": "99302e7a",
   "metadata": {},
   "source": [
    "#### Define dataset and dataloaders"
   ]
  },
  {
   "cell_type": "code",
   "execution_count": null,
   "id": "2424c208",
   "metadata": {},
   "outputs": [],
   "source": [
    "class T5Dataset(Dataset):\n",
    "    \n",
    "    def __init__(self, tokenizer, data):\n",
    "        \n",
    "        self.tokenizer = tokenizer\n",
    "        self.data = data\n",
    "        self.num_examples = len(data)\n",
    "\n",
    "    def __len__(self):\n",
    "        return self.num_examples\n",
    "\n",
    "    def __getitem__(self, idx):\n",
    "        return self.data[idx]\n",
    "    \n",
    "    def collate_fn(self, batch):\n",
    "        \n",
    "        tokenized_review = self.tokenizer(\n",
    "            [x[0] for x in batch],\n",
    "            padding=\"longest\",\n",
    "            return_tensors=\"pt\",\n",
    "        )\n",
    "        \n",
    "        tokenized_title = self.tokenizer(\n",
    "            [x[1] for x in batch],\n",
    "            padding=\"longest\",\n",
    "            return_tensors=\"pt\",\n",
    "        )\n",
    "\n",
    "        return {\"tokenized_review\": tokenized_review,\n",
    "                \"tokenized_title\": tokenized_title}"
   ]
  },
  {
   "cell_type": "code",
   "execution_count": null,
   "id": "9f7a74ae",
   "metadata": {},
   "outputs": [],
   "source": [
    "train_dataset = T5Dataset(tokenizer, train_data)\n",
    "valid_dataset = T5Dataset(tokenizer, valid_data)"
   ]
  },
  {
   "cell_type": "code",
   "execution_count": null,
   "id": "dfc20ffa",
   "metadata": {},
   "outputs": [],
   "source": [
    "train_dataloader = DataLoader(\n",
    "    train_dataset,\n",
    "    shuffle=True,\n",
    "    batch_size=t5_config[\"batch_size\"],\n",
    "    collate_fn=train_dataset.collate_fn,\n",
    ")\n",
    "valid_dataloader = DataLoader(\n",
    "    valid_dataset,\n",
    "    shuffle=False,\n",
    "    batch_size=t5_config[\"batch_size\"],\n",
    "    collate_fn=valid_dataset.collate_fn,\n",
    ")"
   ]
  },
  {
   "cell_type": "markdown",
   "id": "e576ae40",
   "metadata": {},
   "source": [
    "#### Define optimizer and scheduler"
   ]
  },
  {
   "cell_type": "code",
   "execution_count": null,
   "id": "3168b18f",
   "metadata": {},
   "outputs": [],
   "source": [
    "optimizer = prepare_optimizer(\n",
    "    model=model,\n",
    "    lr=t5_config[\"learning_rate\"],\n",
    ")"
   ]
  },
  {
   "cell_type": "code",
   "execution_count": null,
   "id": "675d3541",
   "metadata": {},
   "outputs": [],
   "source": [
    "scheduler = prepare_scheduler(\n",
    "    optimizer=optimizer,\n",
    "    train_dataloader=train_dataloader,\n",
    "    config=t5_config,\n",
    "    \n",
    ")"
   ]
  },
  {
   "cell_type": "markdown",
   "id": "756db986",
   "metadata": {},
   "source": [
    "#### Move model to the right device"
   ]
  },
  {
   "cell_type": "code",
   "execution_count": null,
   "id": "5c62bd83",
   "metadata": {},
   "outputs": [],
   "source": [
    "model = model.to(device)"
   ]
  },
  {
   "cell_type": "markdown",
   "id": "47a9a2ae",
   "metadata": {},
   "source": [
    "#### Define trainable layers"
   ]
  },
  {
   "cell_type": "code",
   "execution_count": null,
   "id": "120a7f51",
   "metadata": {},
   "outputs": [],
   "source": [
    "num_layers = model.config.num_layers"
   ]
  },
  {
   "cell_type": "code",
   "execution_count": null,
   "id": "f9e67cf9",
   "metadata": {
    "scrolled": false
   },
   "outputs": [],
   "source": [
    "num_trainable_layers = 1\n",
    "trainable_layers = [str(i) for i in range(num_layers - num_trainable_layers, num_layers)]\n",
    "\n",
    "# Unfreeze layer as desired\n",
    "for param_name, param in model.named_parameters():\n",
    "    if param_name.split(\".\")[0] in [\"encoder\", \"decoder\"] and param_name.split(\".\")[2] in trainable_layers:\n",
    "        param.requires_grad = True\n",
    "    else:\n",
    "        param.requires_grad = False\n",
    "\n",
    "# Print layers that are going the be trained\n",
    "print(\"Layers being trained:\\n\")\n",
    "for param_name, param in model.named_parameters():\n",
    "    if param.requires_grad == True:\n",
    "        print(param_name)"
   ]
  },
  {
   "cell_type": "markdown",
   "id": "77d3d8d2",
   "metadata": {},
   "source": [
    "#### Train Model / Generate Examples"
   ]
  },
  {
   "cell_type": "code",
   "execution_count": null,
   "id": "430aac91",
   "metadata": {},
   "outputs": [],
   "source": [
    "def generate_with_model(text, tokenizer, model, device):\n",
    "    tokenized_text = tokenizer(text, return_tensors=\"pt\").to(device)\n",
    "    \n",
    "    generated_text_ids = model.generate(\n",
    "        input_ids=tokenized_text[\"input_ids\"],\n",
    "        attention_mask=tokenized_text[\"attention_mask\"],\n",
    "        max_length=70,\n",
    "        pad_token_id=tokenizer.eos_token_id\n",
    "    )[0]\n",
    "    generated_text = tokenizer.decode(generated_text_ids, skip_special_tokens=True)\n",
    "    return generated_text"
   ]
  },
  {
   "cell_type": "code",
   "execution_count": null,
   "id": "8419d415",
   "metadata": {},
   "outputs": [],
   "source": [
    "def pretty_print_example(original, generated):\n",
    "    print(f\"Context:\\n{original[0]}\\n\")\n",
    "    original_title = original[1]\n",
    "    print(f\"Original:\\n{original_title[:-len(tokenizer.eos_token)]}\\n\")\n",
    "    generated_title = generated\n",
    "    print(f\"Generated:\\n{generated_title}\\n\")\n",
    "\n",
    "    print(\"-----\")"
   ]
  },
  {
   "cell_type": "code",
   "execution_count": null,
   "id": "101cde4e",
   "metadata": {},
   "outputs": [],
   "source": [
    "valid_data[i]"
   ]
  },
  {
   "cell_type": "code",
   "execution_count": null,
   "id": "dff034d4",
   "metadata": {},
   "outputs": [],
   "source": [
    "for i in range(5):\n",
    "    example = valid_data[i][0]\n",
    "    generated_example = generate_with_model(example, tokenizer, model, device)\n",
    "    pretty_print_example(original=valid_data[i], generated=generated_example)"
   ]
  },
  {
   "cell_type": "markdown",
   "id": "cb771aa2",
   "metadata": {},
   "source": [
    "For a better understanding of the forward call, refer to the [corresponding docs page](https://huggingface.co/docs/transformers/model_doc/t5#transformers.T5ForConditionalGeneration.forward)."
   ]
  },
  {
   "cell_type": "code",
   "execution_count": null,
   "id": "fb40300c",
   "metadata": {},
   "outputs": [],
   "source": [
    "batch_loss = -100\n",
    "\n",
    "for epoch in range(t5_config[\"num_epochs\"]):\n",
    "\n",
    "    total_train_loss = 0\n",
    "    \n",
    "    model.train()\n",
    "\n",
    "    for step_idx, batch in enumerate(train_dataloader):\n",
    "\n",
    "        #print(f\"STEP: {step_idx} / {len(train_dataloader)} - LOSS: {batch_loss:.4f}\", end=\"\\r\")\n",
    "        # Use this one for Colab instead:\n",
    "        print(f\"\\rSTEP: {step_idx} / {len(train_dataloader)} - LOSS: {batch_loss:.4f}\", end=\"\")\n",
    "\n",
    "        model.zero_grad()\n",
    "\n",
    "        batch = {k:v.to(device) for k,v in batch.items()}\n",
    "        output = model(\n",
    "            input_ids=batch[\"tokenized_review\"][\"input_ids\"],\n",
    "            attention_mask=batch[\"tokenized_review\"][\"attention_mask\"],\n",
    "            labels=batch[\"tokenized_title\"][\"input_ids\"],\n",
    "            decoder_attention_mask=batch[\"tokenized_title\"][\"attention_mask\"],\n",
    "        )\n",
    "\n",
    "        batch_loss = output[\"loss\"]\n",
    "        total_train_loss += batch_loss.item()\n",
    "\n",
    "        batch_loss.backward()\n",
    "        optimizer.step()\n",
    "        scheduler.step()\n",
    "\n",
    "    print(f\"\\nEpoch: {epoch} - Average Train Loss: {total_train_loss / len(train_dataloader):.2f}\")\n",
    "\n",
    "    # Validation\n",
    "    model.eval()\n",
    "\n",
    "    total_valid_loss = 0\n",
    "\n",
    "    for batch in valid_dataloader:\n",
    "        \n",
    "        batch = {k:v.to(device) for k,v in batch.items()}\n",
    "\n",
    "        with torch.no_grad():\n",
    "            output = model(\n",
    "                input_ids=batch[\"tokenized_review\"][\"input_ids\"],\n",
    "                attention_mask=batch[\"tokenized_review\"][\"attention_mask\"],\n",
    "                labels=batch[\"tokenized_title\"][\"input_ids\"],\n",
    "                decoder_attention_mask=batch[\"tokenized_title\"][\"attention_mask\"],\n",
    "            )\n",
    "    \n",
    "        batch_loss = output[\"loss\"].item()\n",
    "        total_valid_loss += batch_loss\n",
    "        \n",
    "    print(f\"Epoch: {epoch} - Average Valid Loss: {total_valid_loss / len(valid_dataloader):.2f}\")"
   ]
  },
  {
   "cell_type": "code",
   "execution_count": null,
   "id": "85d32299",
   "metadata": {},
   "outputs": [],
   "source": [
    "for i in range(5):\n",
    "    example = valid_data[i][0]\n",
    "    generated_example = generate_with_model(example, tokenizer, model, device)\n",
    "    pretty_print_example(original=valid_data[i], generated=generated_example)"
   ]
  },
  {
   "cell_type": "markdown",
   "id": "8a06a1d8",
   "metadata": {},
   "source": [
    "---\n",
    "---\n",
    "---"
   ]
  },
  {
   "cell_type": "markdown",
   "id": "1583f1be",
   "metadata": {},
   "source": [
    "### Resources"
   ]
  },
  {
   "cell_type": "markdown",
   "id": "1854b63d",
   "metadata": {},
   "source": [
    "**General**\n",
    "\n",
    "- [HuggingFace Course](https://huggingface.co/course/chapter1/1)\n",
    "- [Transformers Package Docs](https://huggingface.co/docs/transformers/index)\n",
    "\n",
    "**Finetuning Tutorials**\n",
    "- Finetuning with HF Trainer Package: [(1)](https://huggingface.co/docs/transformers/training#train-with-pytorch-trainer) and [(2)](https://huggingface.co/docs/transformers/v4.26.1/en/main_classes/trainer#trainer).\n",
    "- [Finetuning with PyTorch](https://huggingface.co/docs/transformers/training#train-in-native-pytorch)\n",
    "\n",
    "**HuggingFace Examples**\n",
    "- [HuggingFace Official Notebooks](https://huggingface.co/docs/transformers/notebooks)\n",
    "- [HuggingFace Community Notebooks](https://huggingface.co/docs/transformers/community)\n",
    "- [HuggingFace PyTorch Script Examples](https://github.com/huggingface/transformers/tree/main/examples/pytorch)\n",
    "\n",
    "**Other**\n",
    "- To work with [adapters](https://arxiv.org/abs/1902.00751): [AdapterHub](https://docs.adapterhub.ml/)\n",
    "- Prompting strategies with GPT-3: [OpenAI github document](https://github.com/openai/openai-cookbook/blob/main/techniques_to_improve_reliability.md)"
   ]
  }
 ],
 "metadata": {
  "kernelspec": {
   "display_name": "Python 3 (ipykernel)",
   "language": "python",
   "name": "python3"
  },
  "language_info": {
   "codemirror_mode": {
    "name": "ipython",
    "version": 3
   },
   "file_extension": ".py",
   "mimetype": "text/x-python",
   "name": "python",
   "nbconvert_exporter": "python",
   "pygments_lexer": "ipython3",
   "version": "3.8.10"
  }
 },
 "nbformat": 4,
 "nbformat_minor": 5
}
